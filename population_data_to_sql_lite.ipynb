{
 "cells": [
  {
   "cell_type": "code",
   "execution_count": 1,
   "metadata": {},
   "outputs": [],
   "source": [
    "import pandas as pd\n",
    "from sqlalchemy import create_engine\n",
    "import pymysql\n",
    "import sqlite3 as sl"
   ]
  },
  {
   "cell_type": "code",
   "execution_count": 61,
   "metadata": {
    "scrolled": true
   },
   "outputs": [
    {
     "data": {
      "text/plain": [
       "country_name     object\n",
       "country_code     object\n",
       "1960            float64\n",
       "1961            float64\n",
       "1962            float64\n",
       "1963            float64\n",
       "1964            float64\n",
       "1965            float64\n",
       "1966            float64\n",
       "1967            float64\n",
       "1968            float64\n",
       "1969            float64\n",
       "1970            float64\n",
       "1971            float64\n",
       "1972            float64\n",
       "1973            float64\n",
       "1974            float64\n",
       "1975            float64\n",
       "1976            float64\n",
       "1977            float64\n",
       "1978            float64\n",
       "1979            float64\n",
       "1980            float64\n",
       "1981            float64\n",
       "1982            float64\n",
       "1983            float64\n",
       "1984            float64\n",
       "1985            float64\n",
       "1986            float64\n",
       "1987            float64\n",
       "                 ...   \n",
       "1989            float64\n",
       "1990            float64\n",
       "1991            float64\n",
       "1992            float64\n",
       "1993            float64\n",
       "1994            float64\n",
       "1995            float64\n",
       "1996            float64\n",
       "1997            float64\n",
       "1998            float64\n",
       "1999            float64\n",
       "2000            float64\n",
       "2001            float64\n",
       "2002            float64\n",
       "2003            float64\n",
       "2004            float64\n",
       "2005            float64\n",
       "2006            float64\n",
       "2007            float64\n",
       "2008            float64\n",
       "2009            float64\n",
       "2010            float64\n",
       "2011            float64\n",
       "2012            float64\n",
       "2013            float64\n",
       "2014            float64\n",
       "2015            float64\n",
       "2016            float64\n",
       "2017            float64\n",
       "2018            float64\n",
       "Length: 61, dtype: object"
      ]
     },
     "execution_count": 61,
     "metadata": {},
     "output_type": "execute_result"
    }
   ],
   "source": [
    "# Read in population data\n",
    "\n",
    "pop_history = \"./raw_population_data/API_SP.POP.TOTL_DS2_en_csv_v2_10383678.csv\"\n",
    "df_pop = pd.read_csv(pop_history, skiprows=4)\n",
    "df_pop = df_pop[['Country Name', 'Country Code',\n",
    "       '1960', '1961', '1962', '1963', '1964', '1965', '1966', '1967', '1968',\n",
    "       '1969', '1970', '1971', '1972', '1973', '1974', '1975', '1976', '1977',\n",
    "       '1978', '1979', '1980', '1981', '1982', '1983', '1984', '1985', '1986',\n",
    "       '1987', '1988', '1989', '1990', '1991', '1992', '1993', '1994', '1995',\n",
    "       '1996', '1997', '1998', '1999', '2000', '2001', '2002', '2003', '2004',\n",
    "       '2005', '2006', '2007', '2008', '2009', '2010', '2011', '2012', '2013',\n",
    "       '2014', '2015', '2016', '2017', '2018']]\n",
    "df_pop = df_pop.rename(columns= {'Country Name': 'country_name', 'Country Code' : 'country_code'})\n",
    "df_pop.dtypes"
   ]
  },
  {
   "cell_type": "code",
   "execution_count": 62,
   "metadata": {},
   "outputs": [
    {
     "data": {
      "text/plain": [
       "Index(['country_name', 'country_code', '1960', '1961', '1962', '1963', '1964',\n",
       "       '1965', '1966', '1967', '1968', '1969', '1970', '1971', '1972', '1973',\n",
       "       '1974', '1975', '1976', '1977', '1978', '1979', '1980', '1981', '1982',\n",
       "       '1983', '1984', '1985', '1986', '1987', '1988', '1989', '1990', '1991',\n",
       "       '1992', '1993', '1994', '1995', '1996', '1997', '1998', '1999', '2000',\n",
       "       '2001', '2002', '2003', '2004', '2005', '2006', '2007', '2008', '2009',\n",
       "       '2010', '2011', '2012', '2013', '2014', '2015', '2016', '2017', '2018'],\n",
       "      dtype='object')"
      ]
     },
     "execution_count": 62,
     "metadata": {},
     "output_type": "execute_result"
    }
   ],
   "source": [
    "df_pop.columns"
   ]
  },
  {
   "cell_type": "code",
   "execution_count": null,
   "metadata": {},
   "outputs": [],
   "source": []
  },
  {
   "cell_type": "code",
   "execution_count": 63,
   "metadata": {},
   "outputs": [],
   "source": [
    "# write to sql lite table\n",
    "\n",
    "conn = sl.connect('olympic_db.sqlite')\n",
    "\n",
    "df_pop.to_sql('pop_yr', conn, if_exists='replace', index=False)"
   ]
  },
  {
   "cell_type": "code",
   "execution_count": null,
   "metadata": {},
   "outputs": [],
   "source": []
  }
 ],
 "metadata": {
  "kernelspec": {
   "display_name": "utdata",
   "language": "python",
   "name": "utdata"
  },
  "language_info": {
   "codemirror_mode": {
    "name": "ipython",
    "version": 3
   },
   "file_extension": ".py",
   "mimetype": "text/x-python",
   "name": "python",
   "nbconvert_exporter": "python",
   "pygments_lexer": "ipython3",
   "version": "3.7.2"
  }
 },
 "nbformat": 4,
 "nbformat_minor": 2
}
